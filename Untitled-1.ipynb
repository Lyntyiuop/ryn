{
 "cells": [
  {
   "cell_type": "code",
   "execution_count": 10,
   "metadata": {
    "ExecuteTime": {
     "end_time": "2023-11-05T13:46:13.107559900Z",
     "start_time": "2023-11-05T13:46:13.061557100Z"
    }
   },
   "outputs": [
    {
     "ename": "NameError",
     "evalue": "name '输入左端点' is not defined",
     "output_type": "error",
     "traceback": [
      "\u001b[1;31m---------------------------------------------------------------------------\u001b[0m",
      "\u001b[1;31mNameError\u001b[0m                                 Traceback (most recent call last)",
      "\u001b[1;32md:\\FDU\\fdu\\课\\大三上\\跨入科学之门 计算机的应用\\vscode final pj\\Untitled-1.ipynb Cell 1\u001b[0m line \u001b[0;36m2\n\u001b[0;32m      <a href='vscode-notebook-cell:/d%3A/FDU/fdu/%E8%AF%BE/%E5%A4%A7%E4%B8%89%E4%B8%8A/%E8%B7%A8%E5%85%A5%E7%A7%91%E5%AD%A6%E4%B9%8B%E9%97%A8%20%E8%AE%A1%E7%AE%97%E6%9C%BA%E7%9A%84%E5%BA%94%E7%94%A8/vscode%20final%20pj/Untitled-1.ipynb#W0sZmlsZQ%3D%3D?line=0'>1</a>\u001b[0m f\u001b[39m=\u001b[39m\u001b[39mlambda\u001b[39;00m x:\u001b[39meval\u001b[39m(\u001b[39m\"\u001b[39m\u001b[39m 输入以x为单变量的函数 \u001b[39m\u001b[39m\"\u001b[39m)\n\u001b[1;32m----> <a href='vscode-notebook-cell:/d%3A/FDU/fdu/%E8%AF%BE/%E5%A4%A7%E4%B8%89%E4%B8%8A/%E8%B7%A8%E5%85%A5%E7%A7%91%E5%AD%A6%E4%B9%8B%E9%97%A8%20%E8%AE%A1%E7%AE%97%E6%9C%BA%E7%9A%84%E5%BA%94%E7%94%A8/vscode%20final%20pj/Untitled-1.ipynb#W0sZmlsZQ%3D%3D?line=1'>2</a>\u001b[0m a\u001b[39m=\u001b[39m输入左端点\n\u001b[0;32m      <a href='vscode-notebook-cell:/d%3A/FDU/fdu/%E8%AF%BE/%E5%A4%A7%E4%B8%89%E4%B8%8A/%E8%B7%A8%E5%85%A5%E7%A7%91%E5%AD%A6%E4%B9%8B%E9%97%A8%20%E8%AE%A1%E7%AE%97%E6%9C%BA%E7%9A%84%E5%BA%94%E7%94%A8/vscode%20final%20pj/Untitled-1.ipynb#W0sZmlsZQ%3D%3D?line=2'>3</a>\u001b[0m b\u001b[39m=\u001b[39m输入右端点\n\u001b[0;32m      <a href='vscode-notebook-cell:/d%3A/FDU/fdu/%E8%AF%BE/%E5%A4%A7%E4%B8%89%E4%B8%8A/%E8%B7%A8%E5%85%A5%E7%A7%91%E5%AD%A6%E4%B9%8B%E9%97%A8%20%E8%AE%A1%E7%AE%97%E6%9C%BA%E7%9A%84%E5%BA%94%E7%94%A8/vscode%20final%20pj/Untitled-1.ipynb#W0sZmlsZQ%3D%3D?line=3'>4</a>\u001b[0m epsilon\u001b[39m=\u001b[39m输入误差\n",
      "\u001b[1;31mNameError\u001b[0m: name '输入左端点' is not defined"
     ]
    }
   ],
   "source": [
    "#问题一 bisection算法函数\n",
    "f=lambda x:eval( \" 输入以x为单变量的函数 \")\n",
    "a=输入左端点\n",
    "b=输入右端点\n",
    "epsilon=输入误差\n",
    "\n",
    "while (b-a)/2 > epsilon :\n",
    "    midpoint = (a+b)/2\n",
    "    if f(midpoint)==0 :\n",
    "        print(midpoint)\n",
    "        break\n",
    "    elif f(a)*f(midpoint)<0:\n",
    "        b=midpoint\n",
    "    elif f(a)*f(midpoint)>0:\n",
    "        a=midpoint\n",
    "print(midpoint)\n",
    "    "
   ]
  },
  {
   "cell_type": "code",
   "execution_count": null,
   "metadata": {},
   "outputs": [],
   "source": [
    "#问题一 bisection算法函数\n",
    "def f(x):\n",
    "    return 输入以x为单变量的函数\n",
    "a=输入左端点\n",
    "b=输入右端点\n",
    "epsilon=输入误差\n",
    "\n",
    "while (b-a)/2 > epsilon :\n",
    "    midpoint = (a+b)/2\n",
    "    if f(midpoint)==0 :\n",
    "        print(midpoint)\n",
    "        break\n",
    "    elif f(a)*f(midpoint)<0:\n",
    "        b=midpoint\n",
    "    elif f(a)*f(midpoint)>0:\n",
    "        a=midpoint\n",
    "print(midpoint)"
   ]
  },
  {
   "cell_type": "code",
   "execution_count": 11,
   "metadata": {},
   "outputs": [
    {
     "name": "stdout",
     "output_type": "stream",
     "text": [
      "1.421875\n"
     ]
    }
   ],
   "source": [
    "#问题一 bisection算法函数\n",
    "def f(x):\n",
    "    return x**2-2\n",
    "a=1\n",
    "b=2\n",
    "epsilon=0.01\n",
    "\n",
    "while (b-a)/2 > epsilon :\n",
    "    midpoint = (a+b)/2\n",
    "    if f(midpoint)==0 :\n",
    "        print(midpoint)\n",
    "        break\n",
    "    elif f(a)*f(midpoint)<0:\n",
    "        b=midpoint\n",
    "    elif f(a)*f(midpoint)>0:\n",
    "        a=midpoint\n",
    "print(midpoint)"
   ]
  },
  {
   "cell_type": "code",
   "execution_count": 3,
   "metadata": {
    "collapsed": false
   },
   "outputs": [
    {
     "name": "stdout",
     "output_type": "stream",
     "text": [
      "1.4142857142857144\n"
     ]
    }
   ],
   "source": [
    "#问题二 Newton算法函数\n",
    "def f(x):\n",
    "    return x**2-2\n",
    "\n",
    "def df(x):\n",
    "    return 2*x\n",
    "\n",
    "x_0=1.4\n",
    "a=1\n",
    "b=2\n",
    "epsilon=10**-10\n",
    "\n",
    "def h(x):\n",
    "    return x-f(x)/df(x)\n",
    "\n",
    "\n",
    "x_1=h(x_0)\n",
    "if abs(x_0-x_1) >= epsilon:\n",
    "    x_0=x_1\n",
    "\n",
    "        \n",
    "print((x_0+x_1)/2)\n",
    "    \n",
    "    \n"
   ]
  },
  {
   "cell_type": "code",
   "execution_count": 2,
   "metadata": {},
   "outputs": [
    {
     "name": "stdout",
     "output_type": "stream",
     "text": [
      "[1.16556119]\n"
     ]
    },
    {
     "name": "stderr",
     "output_type": "stream",
     "text": [
      "C:\\Users\\lenovo\\AppData\\Local\\Temp\\ipykernel_14916\\1983221642.py:7: DeprecationWarning: Conversion of an array with ndim > 0 to a scalar is deprecated, and will error in future. Ensure you extract a single element from your array before performing this operation. (Deprecated NumPy 1.25.)\n",
      "  return 2*x - math.tan(x)\n"
     ]
    }
   ],
   "source": [
    "#问题三 \n",
    "import numpy as np\n",
    "from scipy.optimize import root\n",
    "import math\n",
    "\n",
    "def f(x):\n",
    "    return 2*x - math.tan(x)\n",
    "\n",
    "sol = root(f, 1.0)\n",
    "\n",
    "# 输出结果\n",
    "print(sol.x)\n",
    "\n"
   ]
  },
  {
   "cell_type": "code",
   "execution_count": 8,
   "metadata": {},
   "outputs": [
    {
     "ename": "ValueError",
     "evalue": "f(a) and f(b) must have different signs",
     "output_type": "error",
     "traceback": [
      "\u001b[1;31m---------------------------------------------------------------------------\u001b[0m",
      "\u001b[1;31mValueError\u001b[0m                                Traceback (most recent call last)",
      "\u001b[1;32md:\\FDU\\fdu\\课\\大三上\\跨入科学之门 计算机的应用\\vscode final pj\\Untitled-1.ipynb Cell 6\u001b[0m line \u001b[0;36m8\n\u001b[0;32m      <a href='vscode-notebook-cell:/d%3A/FDU/fdu/%E8%AF%BE/%E5%A4%A7%E4%B8%89%E4%B8%8A/%E8%B7%A8%E5%85%A5%E7%A7%91%E5%AD%A6%E4%B9%8B%E9%97%A8%20%E8%AE%A1%E7%AE%97%E6%9C%BA%E7%9A%84%E5%BA%94%E7%94%A8/vscode%20final%20pj/Untitled-1.ipynb#W5sZmlsZQ%3D%3D?line=4'>5</a>\u001b[0m \u001b[39mdef\u001b[39;00m \u001b[39mf\u001b[39m(x):\n\u001b[0;32m      <a href='vscode-notebook-cell:/d%3A/FDU/fdu/%E8%AF%BE/%E5%A4%A7%E4%B8%89%E4%B8%8A/%E8%B7%A8%E5%85%A5%E7%A7%91%E5%AD%A6%E4%B9%8B%E9%97%A8%20%E8%AE%A1%E7%AE%97%E6%9C%BA%E7%9A%84%E5%BA%94%E7%94%A8/vscode%20final%20pj/Untitled-1.ipynb#W5sZmlsZQ%3D%3D?line=5'>6</a>\u001b[0m     \u001b[39mreturn\u001b[39;00m \u001b[39m2\u001b[39m\u001b[39m*\u001b[39mx \u001b[39m-\u001b[39m math\u001b[39m.\u001b[39mtan(x)\n\u001b[1;32m----> <a href='vscode-notebook-cell:/d%3A/FDU/fdu/%E8%AF%BE/%E5%A4%A7%E4%B8%89%E4%B8%8A/%E8%B7%A8%E5%85%A5%E7%A7%91%E5%AD%A6%E4%B9%8B%E9%97%A8%20%E8%AE%A1%E7%AE%97%E6%9C%BA%E7%9A%84%E5%BA%94%E7%94%A8/vscode%20final%20pj/Untitled-1.ipynb#W5sZmlsZQ%3D%3D?line=7'>8</a>\u001b[0m root_scalar(f, bracket\u001b[39m=\u001b[39;49m[\u001b[39m-\u001b[39;49m\u001b[39m0.2\u001b[39;49m, \u001b[39m1.4\u001b[39;49m], method\u001b[39m=\u001b[39;49m\u001b[39m'\u001b[39;49m\u001b[39mbrentq\u001b[39;49m\u001b[39m'\u001b[39;49m)\n",
      "File \u001b[1;32md:\\360安全浏览器下载\\python\\Lib\\site-packages\\scipy\\optimize\\_root_scalar.py:279\u001b[0m, in \u001b[0;36mroot_scalar\u001b[1;34m(f, args, method, bracket, fprime, fprime2, x0, x1, xtol, rtol, maxiter, options)\u001b[0m\n\u001b[0;32m    277\u001b[0m a, b \u001b[39m=\u001b[39m bracket[:\u001b[39m2\u001b[39m]\n\u001b[0;32m    278\u001b[0m \u001b[39mtry\u001b[39;00m:\n\u001b[1;32m--> 279\u001b[0m     r, sol \u001b[39m=\u001b[39m methodc(f, a, b, args\u001b[39m=\u001b[39;49margs, \u001b[39m*\u001b[39;49m\u001b[39m*\u001b[39;49mkwargs)\n\u001b[0;32m    280\u001b[0m \u001b[39mexcept\u001b[39;00m \u001b[39mValueError\u001b[39;00m \u001b[39mas\u001b[39;00m e:\n\u001b[0;32m    281\u001b[0m     \u001b[39m# gh-17622 fixed some bugs in low-level solvers by raising an error\u001b[39;00m\n\u001b[0;32m    282\u001b[0m     \u001b[39m# (rather than returning incorrect results) when the callable\u001b[39;00m\n\u001b[0;32m    283\u001b[0m     \u001b[39m# returns a NaN. It did so by wrapping the callable rather than\u001b[39;00m\n\u001b[0;32m    284\u001b[0m     \u001b[39m# modifying compiled code, so the iteration count is not available.\u001b[39;00m\n\u001b[0;32m    285\u001b[0m     \u001b[39mif\u001b[39;00m \u001b[39mhasattr\u001b[39m(e, \u001b[39m\"\u001b[39m\u001b[39m_x\u001b[39m\u001b[39m\"\u001b[39m):\n",
      "File \u001b[1;32md:\\360安全浏览器下载\\python\\Lib\\site-packages\\scipy\\optimize\\_zeros_py.py:802\u001b[0m, in \u001b[0;36mbrentq\u001b[1;34m(f, a, b, args, xtol, rtol, maxiter, full_output, disp)\u001b[0m\n\u001b[0;32m    800\u001b[0m     \u001b[39mraise\u001b[39;00m \u001b[39mValueError\u001b[39;00m(\u001b[39mf\u001b[39m\u001b[39m\"\u001b[39m\u001b[39mrtol too small (\u001b[39m\u001b[39m{\u001b[39;00mrtol\u001b[39m:\u001b[39;00m\u001b[39mg\u001b[39m\u001b[39m}\u001b[39;00m\u001b[39m < \u001b[39m\u001b[39m{\u001b[39;00m_rtol\u001b[39m:\u001b[39;00m\u001b[39mg\u001b[39m\u001b[39m}\u001b[39;00m\u001b[39m)\u001b[39m\u001b[39m\"\u001b[39m)\n\u001b[0;32m    801\u001b[0m f \u001b[39m=\u001b[39m _wrap_nan_raise(f)\n\u001b[1;32m--> 802\u001b[0m r \u001b[39m=\u001b[39m _zeros\u001b[39m.\u001b[39;49m_brentq(f, a, b, xtol, rtol, maxiter, args, full_output, disp)\n\u001b[0;32m    803\u001b[0m \u001b[39mreturn\u001b[39;00m results_c(full_output, r)\n",
      "\u001b[1;31mValueError\u001b[0m: f(a) and f(b) must have different signs"
     ]
    }
   ],
   "source": [
    "from scipy.optimize import root_scalar\n",
    "import math\n",
    "import numpy as np\n",
    "\n",
    "def f(x):\n",
    "    return 2*x - math.tan(x)\n",
    "\n"
   ]
  },
  {
   "cell_type": "code",
   "execution_count": 9,
   "metadata": {},
   "outputs": [
    {
     "ename": "ValueError",
     "evalue": "f(a) and f(b) must have different signs",
     "output_type": "error",
     "traceback": [
      "\u001b[1;31m---------------------------------------------------------------------------\u001b[0m",
      "\u001b[1;31mValueError\u001b[0m                                Traceback (most recent call last)",
      "\u001b[1;32md:\\FDU\\fdu\\课\\大三上\\跨入科学之门 计算机的应用\\vscode final pj\\Untitled-1.ipynb Cell 7\u001b[0m line \u001b[0;36m1\n\u001b[1;32m----> <a href='vscode-notebook-cell:/d%3A/FDU/fdu/%E8%AF%BE/%E5%A4%A7%E4%B8%89%E4%B8%8A/%E8%B7%A8%E5%85%A5%E7%A7%91%E5%AD%A6%E4%B9%8B%E9%97%A8%20%E8%AE%A1%E7%AE%97%E6%9C%BA%E7%9A%84%E5%BA%94%E7%94%A8/vscode%20final%20pj/Untitled-1.ipynb#X10sZmlsZQ%3D%3D?line=0'>1</a>\u001b[0m root_scalar(f, bracket\u001b[39m=\u001b[39;49m[\u001b[39m-\u001b[39;49m\u001b[39m0.2\u001b[39;49m, \u001b[39m1.4\u001b[39;49m], method\u001b[39m=\u001b[39;49m\u001b[39m'\u001b[39;49m\u001b[39mbrentq\u001b[39;49m\u001b[39m'\u001b[39;49m)\n",
      "File \u001b[1;32md:\\360安全浏览器下载\\python\\Lib\\site-packages\\scipy\\optimize\\_root_scalar.py:279\u001b[0m, in \u001b[0;36mroot_scalar\u001b[1;34m(f, args, method, bracket, fprime, fprime2, x0, x1, xtol, rtol, maxiter, options)\u001b[0m\n\u001b[0;32m    277\u001b[0m a, b \u001b[39m=\u001b[39m bracket[:\u001b[39m2\u001b[39m]\n\u001b[0;32m    278\u001b[0m \u001b[39mtry\u001b[39;00m:\n\u001b[1;32m--> 279\u001b[0m     r, sol \u001b[39m=\u001b[39m methodc(f, a, b, args\u001b[39m=\u001b[39;49margs, \u001b[39m*\u001b[39;49m\u001b[39m*\u001b[39;49mkwargs)\n\u001b[0;32m    280\u001b[0m \u001b[39mexcept\u001b[39;00m \u001b[39mValueError\u001b[39;00m \u001b[39mas\u001b[39;00m e:\n\u001b[0;32m    281\u001b[0m     \u001b[39m# gh-17622 fixed some bugs in low-level solvers by raising an error\u001b[39;00m\n\u001b[0;32m    282\u001b[0m     \u001b[39m# (rather than returning incorrect results) when the callable\u001b[39;00m\n\u001b[0;32m    283\u001b[0m     \u001b[39m# returns a NaN. It did so by wrapping the callable rather than\u001b[39;00m\n\u001b[0;32m    284\u001b[0m     \u001b[39m# modifying compiled code, so the iteration count is not available.\u001b[39;00m\n\u001b[0;32m    285\u001b[0m     \u001b[39mif\u001b[39;00m \u001b[39mhasattr\u001b[39m(e, \u001b[39m\"\u001b[39m\u001b[39m_x\u001b[39m\u001b[39m\"\u001b[39m):\n",
      "File \u001b[1;32md:\\360安全浏览器下载\\python\\Lib\\site-packages\\scipy\\optimize\\_zeros_py.py:802\u001b[0m, in \u001b[0;36mbrentq\u001b[1;34m(f, a, b, args, xtol, rtol, maxiter, full_output, disp)\u001b[0m\n\u001b[0;32m    800\u001b[0m     \u001b[39mraise\u001b[39;00m \u001b[39mValueError\u001b[39;00m(\u001b[39mf\u001b[39m\u001b[39m\"\u001b[39m\u001b[39mrtol too small (\u001b[39m\u001b[39m{\u001b[39;00mrtol\u001b[39m:\u001b[39;00m\u001b[39mg\u001b[39m\u001b[39m}\u001b[39;00m\u001b[39m < \u001b[39m\u001b[39m{\u001b[39;00m_rtol\u001b[39m:\u001b[39;00m\u001b[39mg\u001b[39m\u001b[39m}\u001b[39;00m\u001b[39m)\u001b[39m\u001b[39m\"\u001b[39m)\n\u001b[0;32m    801\u001b[0m f \u001b[39m=\u001b[39m _wrap_nan_raise(f)\n\u001b[1;32m--> 802\u001b[0m r \u001b[39m=\u001b[39m _zeros\u001b[39m.\u001b[39;49m_brentq(f, a, b, xtol, rtol, maxiter, args, full_output, disp)\n\u001b[0;32m    803\u001b[0m \u001b[39mreturn\u001b[39;00m results_c(full_output, r)\n",
      "\u001b[1;31mValueError\u001b[0m: f(a) and f(b) must have different signs"
     ]
    }
   ],
   "source": [
    "root_scalar(f, bracket=[-0.2, 1.4], method='brentq')"
   ]
  },
  {
   "cell_type": "code",
   "execution_count": 4,
   "metadata": {},
   "outputs": [
    {
     "ename": "ValueError",
     "evalue": "f(a) and f(b) must have different signs",
     "output_type": "error",
     "traceback": [
      "\u001b[1;31m---------------------------------------------------------------------------\u001b[0m",
      "\u001b[1;31mValueError\u001b[0m                                Traceback (most recent call last)",
      "\u001b[1;32md:\\FDU\\fdu\\课\\大三上\\跨入科学之门 计算机的应用\\vscode final pj\\Untitled-1.ipynb Cell 7\u001b[0m line \u001b[0;36m7\n\u001b[0;32m      <a href='vscode-notebook-cell:/d%3A/FDU/fdu/%E8%AF%BE/%E5%A4%A7%E4%B8%89%E4%B8%8A/%E8%B7%A8%E5%85%A5%E7%A7%91%E5%AD%A6%E4%B9%8B%E9%97%A8%20%E8%AE%A1%E7%AE%97%E6%9C%BA%E7%9A%84%E5%BA%94%E7%94%A8/vscode%20final%20pj/Untitled-1.ipynb#W6sZmlsZQ%3D%3D?line=3'>4</a>\u001b[0m \u001b[39mdef\u001b[39;00m \u001b[39mf\u001b[39m(x):\n\u001b[0;32m      <a href='vscode-notebook-cell:/d%3A/FDU/fdu/%E8%AF%BE/%E5%A4%A7%E4%B8%89%E4%B8%8A/%E8%B7%A8%E5%85%A5%E7%A7%91%E5%AD%A6%E4%B9%8B%E9%97%A8%20%E8%AE%A1%E7%AE%97%E6%9C%BA%E7%9A%84%E5%BA%94%E7%94%A8/vscode%20final%20pj/Untitled-1.ipynb#W6sZmlsZQ%3D%3D?line=4'>5</a>\u001b[0m     \u001b[39mreturn\u001b[39;00m \u001b[39m2\u001b[39m\u001b[39m*\u001b[39mx \u001b[39m-\u001b[39m math\u001b[39m.\u001b[39mtan(x)\n\u001b[1;32m----> <a href='vscode-notebook-cell:/d%3A/FDU/fdu/%E8%AF%BE/%E5%A4%A7%E4%B8%89%E4%B8%8A/%E8%B7%A8%E5%85%A5%E7%A7%91%E5%AD%A6%E4%B9%8B%E9%97%A8%20%E8%AE%A1%E7%AE%97%E6%9C%BA%E7%9A%84%E5%BA%94%E7%94%A8/vscode%20final%20pj/Untitled-1.ipynb#W6sZmlsZQ%3D%3D?line=6'>7</a>\u001b[0m sol \u001b[39m=\u001b[39m root_scalar(f, bracket\u001b[39m=\u001b[39;49m[\u001b[39m-\u001b[39;49m\u001b[39m0.2\u001b[39;49m, \u001b[39m1.4\u001b[39;49m], method\u001b[39m=\u001b[39;49m\u001b[39m'\u001b[39;49m\u001b[39mbisect\u001b[39;49m\u001b[39m'\u001b[39;49m)\n\u001b[0;32m      <a href='vscode-notebook-cell:/d%3A/FDU/fdu/%E8%AF%BE/%E5%A4%A7%E4%B8%89%E4%B8%8A/%E8%B7%A8%E5%85%A5%E7%A7%91%E5%AD%A6%E4%B9%8B%E9%97%A8%20%E8%AE%A1%E7%AE%97%E6%9C%BA%E7%9A%84%E5%BA%94%E7%94%A8/vscode%20final%20pj/Untitled-1.ipynb#W6sZmlsZQ%3D%3D?line=7'>8</a>\u001b[0m \u001b[39mprint\u001b[39m(sol\u001b[39m.\u001b[39mroot)\n",
      "File \u001b[1;32md:\\360安全浏览器下载\\python\\Lib\\site-packages\\scipy\\optimize\\_root_scalar.py:279\u001b[0m, in \u001b[0;36mroot_scalar\u001b[1;34m(f, args, method, bracket, fprime, fprime2, x0, x1, xtol, rtol, maxiter, options)\u001b[0m\n\u001b[0;32m    277\u001b[0m a, b \u001b[39m=\u001b[39m bracket[:\u001b[39m2\u001b[39m]\n\u001b[0;32m    278\u001b[0m \u001b[39mtry\u001b[39;00m:\n\u001b[1;32m--> 279\u001b[0m     r, sol \u001b[39m=\u001b[39m methodc(f, a, b, args\u001b[39m=\u001b[39;49margs, \u001b[39m*\u001b[39;49m\u001b[39m*\u001b[39;49mkwargs)\n\u001b[0;32m    280\u001b[0m \u001b[39mexcept\u001b[39;00m \u001b[39mValueError\u001b[39;00m \u001b[39mas\u001b[39;00m e:\n\u001b[0;32m    281\u001b[0m     \u001b[39m# gh-17622 fixed some bugs in low-level solvers by raising an error\u001b[39;00m\n\u001b[0;32m    282\u001b[0m     \u001b[39m# (rather than returning incorrect results) when the callable\u001b[39;00m\n\u001b[0;32m    283\u001b[0m     \u001b[39m# returns a NaN. It did so by wrapping the callable rather than\u001b[39;00m\n\u001b[0;32m    284\u001b[0m     \u001b[39m# modifying compiled code, so the iteration count is not available.\u001b[39;00m\n\u001b[0;32m    285\u001b[0m     \u001b[39mif\u001b[39;00m \u001b[39mhasattr\u001b[39m(e, \u001b[39m\"\u001b[39m\u001b[39m_x\u001b[39m\u001b[39m\"\u001b[39m):\n",
      "File \u001b[1;32md:\\360安全浏览器下载\\python\\Lib\\site-packages\\scipy\\optimize\\_zeros_py.py:573\u001b[0m, in \u001b[0;36mbisect\u001b[1;34m(f, a, b, args, xtol, rtol, maxiter, full_output, disp)\u001b[0m\n\u001b[0;32m    571\u001b[0m     \u001b[39mraise\u001b[39;00m \u001b[39mValueError\u001b[39;00m(\u001b[39mf\u001b[39m\u001b[39m\"\u001b[39m\u001b[39mrtol too small (\u001b[39m\u001b[39m{\u001b[39;00mrtol\u001b[39m:\u001b[39;00m\u001b[39mg\u001b[39m\u001b[39m}\u001b[39;00m\u001b[39m < \u001b[39m\u001b[39m{\u001b[39;00m_rtol\u001b[39m:\u001b[39;00m\u001b[39mg\u001b[39m\u001b[39m}\u001b[39;00m\u001b[39m)\u001b[39m\u001b[39m\"\u001b[39m)\n\u001b[0;32m    572\u001b[0m f \u001b[39m=\u001b[39m _wrap_nan_raise(f)\n\u001b[1;32m--> 573\u001b[0m r \u001b[39m=\u001b[39m _zeros\u001b[39m.\u001b[39;49m_bisect(f, a, b, xtol, rtol, maxiter, args, full_output, disp)\n\u001b[0;32m    574\u001b[0m \u001b[39mreturn\u001b[39;00m results_c(full_output, r)\n",
      "\u001b[1;31mValueError\u001b[0m: f(a) and f(b) must have different signs"
     ]
    }
   ],
   "source": [
    "from scipy.optimize import root_scalar\n",
    "import math\n",
    "\n",
    "def f(x):\n",
    "    return 2*x - math.tan(x)\n",
    "\n",
    "sol = root_scalar(f, bracket=[-0.2, 1.4], method='bisect')\n",
    "print(sol.root)\n"
   ]
  },
  {
   "cell_type": "code",
   "execution_count": 11,
   "metadata": {},
   "outputs": [
    {
     "name": "stdout",
     "output_type": "stream",
     "text": [
      "[1.16556119]\n"
     ]
    },
    {
     "name": "stderr",
     "output_type": "stream",
     "text": [
      "C:\\Users\\lenovo\\AppData\\Local\\Temp\\ipykernel_14916\\632841995.py:7: DeprecationWarning: Conversion of an array with ndim > 0 to a scalar is deprecated, and will error in future. Ensure you extract a single element from your array before performing this operation. (Deprecated NumPy 1.25.)\n",
      "  return 2*x - math.tan(x)\n"
     ]
    }
   ],
   "source": [
    "from scipy.optimize import root\n",
    "import numpy as np\n",
    "import math\n",
    "\n",
    "# 定义一个函数\n",
    "def func(x):\n",
    "    return 2*x - math.tan(x)\n",
    "\n",
    "# 使用 root 函数求解方程根\n",
    "sol = root(func, 1.0)\n",
    "\n",
    "# 输出结果\n",
    "print(sol.x)\n"
   ]
  },
  {
   "cell_type": "code",
   "execution_count": 12,
   "metadata": {},
   "outputs": [
    {
     "ename": "ValueError",
     "evalue": "f(a) and f(b) must have different signs",
     "output_type": "error",
     "traceback": [
      "\u001b[1;31m---------------------------------------------------------------------------\u001b[0m",
      "\u001b[1;31mValueError\u001b[0m                                Traceback (most recent call last)",
      "\u001b[1;32md:\\FDU\\fdu\\课\\大三上\\跨入科学之门 计算机的应用\\vscode final pj\\Untitled-1.ipynb Cell 10\u001b[0m line \u001b[0;36m9\n\u001b[0;32m      <a href='vscode-notebook-cell:/d%3A/FDU/fdu/%E8%AF%BE/%E5%A4%A7%E4%B8%89%E4%B8%8A/%E8%B7%A8%E5%85%A5%E7%A7%91%E5%AD%A6%E4%B9%8B%E9%97%A8%20%E8%AE%A1%E7%AE%97%E6%9C%BA%E7%9A%84%E5%BA%94%E7%94%A8/vscode%20final%20pj/Untitled-1.ipynb#X12sZmlsZQ%3D%3D?line=5'>6</a>\u001b[0m \u001b[39mdef\u001b[39;00m \u001b[39mf1\u001b[39m(x):\n\u001b[0;32m      <a href='vscode-notebook-cell:/d%3A/FDU/fdu/%E8%AF%BE/%E5%A4%A7%E4%B8%89%E4%B8%8A/%E8%B7%A8%E5%85%A5%E7%A7%91%E5%AD%A6%E4%B9%8B%E9%97%A8%20%E8%AE%A1%E7%AE%97%E6%9C%BA%E7%9A%84%E5%BA%94%E7%94%A8/vscode%20final%20pj/Untitled-1.ipynb#X12sZmlsZQ%3D%3D?line=6'>7</a>\u001b[0m     \u001b[39mreturn\u001b[39;00m \u001b[39m2\u001b[39m\u001b[39m*\u001b[39mx \u001b[39m-\u001b[39m math\u001b[39m.\u001b[39mtan(x)\n\u001b[1;32m----> <a href='vscode-notebook-cell:/d%3A/FDU/fdu/%E8%AF%BE/%E5%A4%A7%E4%B8%89%E4%B8%8A/%E8%B7%A8%E5%85%A5%E7%A7%91%E5%AD%A6%E4%B9%8B%E9%97%A8%20%E8%AE%A1%E7%AE%97%E6%9C%BA%E7%9A%84%E5%BA%94%E7%94%A8/vscode%20final%20pj/Untitled-1.ipynb#X12sZmlsZQ%3D%3D?line=8'>9</a>\u001b[0m sol1 \u001b[39m=\u001b[39m root_scalar(f1, method\u001b[39m=\u001b[39;49m\u001b[39m'\u001b[39;49m\u001b[39mbisect\u001b[39;49m\u001b[39m'\u001b[39;49m, bracket\u001b[39m=\u001b[39;49m[\u001b[39m-\u001b[39;49m\u001b[39m0.2\u001b[39;49m, \u001b[39m1.4\u001b[39;49m])\n\u001b[0;32m     <a href='vscode-notebook-cell:/d%3A/FDU/fdu/%E8%AF%BE/%E5%A4%A7%E4%B8%89%E4%B8%8A/%E8%B7%A8%E5%85%A5%E7%A7%91%E5%AD%A6%E4%B9%8B%E9%97%A8%20%E8%AE%A1%E7%AE%97%E6%9C%BA%E7%9A%84%E5%BA%94%E7%94%A8/vscode%20final%20pj/Untitled-1.ipynb#X12sZmlsZQ%3D%3D?line=9'>10</a>\u001b[0m \u001b[39mprint\u001b[39m(\u001b[39m\"\u001b[39m\u001b[39m根1:\u001b[39m\u001b[39m\"\u001b[39m, sol1\u001b[39m.\u001b[39mroot)\n\u001b[0;32m     <a href='vscode-notebook-cell:/d%3A/FDU/fdu/%E8%AF%BE/%E5%A4%A7%E4%B8%89%E4%B8%8A/%E8%B7%A8%E5%85%A5%E7%A7%91%E5%AD%A6%E4%B9%8B%E9%97%A8%20%E8%AE%A1%E7%AE%97%E6%9C%BA%E7%9A%84%E5%BA%94%E7%94%A8/vscode%20final%20pj/Untitled-1.ipynb#X12sZmlsZQ%3D%3D?line=11'>12</a>\u001b[0m \u001b[39m# 求解 np.exp(x) - 2 - x 在 [-2, 2] 之间的根\u001b[39;00m\n",
      "File \u001b[1;32md:\\360安全浏览器下载\\python\\Lib\\site-packages\\scipy\\optimize\\_root_scalar.py:279\u001b[0m, in \u001b[0;36mroot_scalar\u001b[1;34m(f, args, method, bracket, fprime, fprime2, x0, x1, xtol, rtol, maxiter, options)\u001b[0m\n\u001b[0;32m    277\u001b[0m a, b \u001b[39m=\u001b[39m bracket[:\u001b[39m2\u001b[39m]\n\u001b[0;32m    278\u001b[0m \u001b[39mtry\u001b[39;00m:\n\u001b[1;32m--> 279\u001b[0m     r, sol \u001b[39m=\u001b[39m methodc(f, a, b, args\u001b[39m=\u001b[39;49margs, \u001b[39m*\u001b[39;49m\u001b[39m*\u001b[39;49mkwargs)\n\u001b[0;32m    280\u001b[0m \u001b[39mexcept\u001b[39;00m \u001b[39mValueError\u001b[39;00m \u001b[39mas\u001b[39;00m e:\n\u001b[0;32m    281\u001b[0m     \u001b[39m# gh-17622 fixed some bugs in low-level solvers by raising an error\u001b[39;00m\n\u001b[0;32m    282\u001b[0m     \u001b[39m# (rather than returning incorrect results) when the callable\u001b[39;00m\n\u001b[0;32m    283\u001b[0m     \u001b[39m# returns a NaN. It did so by wrapping the callable rather than\u001b[39;00m\n\u001b[0;32m    284\u001b[0m     \u001b[39m# modifying compiled code, so the iteration count is not available.\u001b[39;00m\n\u001b[0;32m    285\u001b[0m     \u001b[39mif\u001b[39;00m \u001b[39mhasattr\u001b[39m(e, \u001b[39m\"\u001b[39m\u001b[39m_x\u001b[39m\u001b[39m\"\u001b[39m):\n",
      "File \u001b[1;32md:\\360安全浏览器下载\\python\\Lib\\site-packages\\scipy\\optimize\\_zeros_py.py:573\u001b[0m, in \u001b[0;36mbisect\u001b[1;34m(f, a, b, args, xtol, rtol, maxiter, full_output, disp)\u001b[0m\n\u001b[0;32m    571\u001b[0m     \u001b[39mraise\u001b[39;00m \u001b[39mValueError\u001b[39;00m(\u001b[39mf\u001b[39m\u001b[39m\"\u001b[39m\u001b[39mrtol too small (\u001b[39m\u001b[39m{\u001b[39;00mrtol\u001b[39m:\u001b[39;00m\u001b[39mg\u001b[39m\u001b[39m}\u001b[39;00m\u001b[39m < \u001b[39m\u001b[39m{\u001b[39;00m_rtol\u001b[39m:\u001b[39;00m\u001b[39mg\u001b[39m\u001b[39m}\u001b[39;00m\u001b[39m)\u001b[39m\u001b[39m\"\u001b[39m)\n\u001b[0;32m    572\u001b[0m f \u001b[39m=\u001b[39m _wrap_nan_raise(f)\n\u001b[1;32m--> 573\u001b[0m r \u001b[39m=\u001b[39m _zeros\u001b[39m.\u001b[39;49m_bisect(f, a, b, xtol, rtol, maxiter, args, full_output, disp)\n\u001b[0;32m    574\u001b[0m \u001b[39mreturn\u001b[39;00m results_c(full_output, r)\n",
      "\u001b[1;31mValueError\u001b[0m: f(a) and f(b) must have different signs"
     ]
    }
   ],
   "source": [
    "from scipy.optimize import root_scalar\n",
    "import math\n",
    "import numpy as np\n",
    "\n",
    "# 求解 2*x - math.tan(x) 在 [-0.2, 1.4] 之间的根\n",
    "def f1(x):\n",
    "    return 2*x - math.tan(x)\n",
    "\n",
    "sol1 = root_scalar(f1, method='bisect', bracket=[-0.2, 1.4])\n",
    "print(\"根1:\", sol1.root)\n",
    "\n",
    "# 求解 np.exp(x) - 2 - x 在 [-2, 2] 之间的根\n",
    "def f2(x):\n",
    "    return np.exp(x) - 2 - x\n",
    "\n",
    "sol2 = root_scalar(f2, method='bisect', bracket=[-2, 2])\n",
    "print(\"根2:\", sol2.root)\n",
    "\n",
    "# 求解 x**(-2) - math.sin(x) 在 [0.5, 4*math.pi] 之间的根\n",
    "def f3(x):\n",
    "    return x**(-2) - math.sin(x)\n",
    "\n",
    "sol3 = root_scalar(f3, method='bisect', bracket=[0.5, 4*math.pi])\n",
    "print(\"根3:\", sol3.root)\n"
   ]
  },
  {
   "cell_type": "code",
   "execution_count": 13,
   "metadata": {},
   "outputs": [
    {
     "name": "stdout",
     "output_type": "stream",
     "text": [
      "根1: 0.0\n"
     ]
    },
    {
     "ename": "ValueError",
     "evalue": "f(a) and f(b) must have different signs",
     "output_type": "error",
     "traceback": [
      "\u001b[1;31m---------------------------------------------------------------------------\u001b[0m",
      "\u001b[1;31mValueError\u001b[0m                                Traceback (most recent call last)",
      "\u001b[1;32md:\\FDU\\fdu\\课\\大三上\\跨入科学之门 计算机的应用\\vscode final pj\\Untitled-1.ipynb Cell 11\u001b[0m line \u001b[0;36m1\n\u001b[0;32m     <a href='vscode-notebook-cell:/d%3A/FDU/fdu/%E8%AF%BE/%E5%A4%A7%E4%B8%89%E4%B8%8A/%E8%B7%A8%E5%85%A5%E7%A7%91%E5%AD%A6%E4%B9%8B%E9%97%A8%20%E8%AE%A1%E7%AE%97%E6%9C%BA%E7%9A%84%E5%BA%94%E7%94%A8/vscode%20final%20pj/Untitled-1.ipynb#X13sZmlsZQ%3D%3D?line=12'>13</a>\u001b[0m \u001b[39mdef\u001b[39;00m \u001b[39mf2\u001b[39m(x):\n\u001b[0;32m     <a href='vscode-notebook-cell:/d%3A/FDU/fdu/%E8%AF%BE/%E5%A4%A7%E4%B8%89%E4%B8%8A/%E8%B7%A8%E5%85%A5%E7%A7%91%E5%AD%A6%E4%B9%8B%E9%97%A8%20%E8%AE%A1%E7%AE%97%E6%9C%BA%E7%9A%84%E5%BA%94%E7%94%A8/vscode%20final%20pj/Untitled-1.ipynb#X13sZmlsZQ%3D%3D?line=13'>14</a>\u001b[0m     \u001b[39mreturn\u001b[39;00m np\u001b[39m.\u001b[39mexp(x) \u001b[39m-\u001b[39m \u001b[39m2\u001b[39m \u001b[39m-\u001b[39m x\n\u001b[1;32m---> <a href='vscode-notebook-cell:/d%3A/FDU/fdu/%E8%AF%BE/%E5%A4%A7%E4%B8%89%E4%B8%8A/%E8%B7%A8%E5%85%A5%E7%A7%91%E5%AD%A6%E4%B9%8B%E9%97%A8%20%E8%AE%A1%E7%AE%97%E6%9C%BA%E7%9A%84%E5%BA%94%E7%94%A8/vscode%20final%20pj/Untitled-1.ipynb#X13sZmlsZQ%3D%3D?line=15'>16</a>\u001b[0m sol2 \u001b[39m=\u001b[39m root_scalar(f2, method\u001b[39m=\u001b[39;49m\u001b[39m'\u001b[39;49m\u001b[39mbisect\u001b[39;49m\u001b[39m'\u001b[39;49m, bracket\u001b[39m=\u001b[39;49m[\u001b[39m-\u001b[39;49m\u001b[39m1\u001b[39;49m, \u001b[39m1\u001b[39;49m])\n\u001b[0;32m     <a href='vscode-notebook-cell:/d%3A/FDU/fdu/%E8%AF%BE/%E5%A4%A7%E4%B8%89%E4%B8%8A/%E8%B7%A8%E5%85%A5%E7%A7%91%E5%AD%A6%E4%B9%8B%E9%97%A8%20%E8%AE%A1%E7%AE%97%E6%9C%BA%E7%9A%84%E5%BA%94%E7%94%A8/vscode%20final%20pj/Untitled-1.ipynb#X13sZmlsZQ%3D%3D?line=16'>17</a>\u001b[0m \u001b[39mprint\u001b[39m(\u001b[39m\"\u001b[39m\u001b[39m根2:\u001b[39m\u001b[39m\"\u001b[39m, sol2\u001b[39m.\u001b[39mroot)\n\u001b[0;32m     <a href='vscode-notebook-cell:/d%3A/FDU/fdu/%E8%AF%BE/%E5%A4%A7%E4%B8%89%E4%B8%8A/%E8%B7%A8%E5%85%A5%E7%A7%91%E5%AD%A6%E4%B9%8B%E9%97%A8%20%E8%AE%A1%E7%AE%97%E6%9C%BA%E7%9A%84%E5%BA%94%E7%94%A8/vscode%20final%20pj/Untitled-1.ipynb#X13sZmlsZQ%3D%3D?line=18'>19</a>\u001b[0m \u001b[39m# 求解 x**(-2) - math.sin(x) 在 [0.5, 4*math.pi] 之间的根\u001b[39;00m\n",
      "File \u001b[1;32md:\\360安全浏览器下载\\python\\Lib\\site-packages\\scipy\\optimize\\_root_scalar.py:279\u001b[0m, in \u001b[0;36mroot_scalar\u001b[1;34m(f, args, method, bracket, fprime, fprime2, x0, x1, xtol, rtol, maxiter, options)\u001b[0m\n\u001b[0;32m    277\u001b[0m a, b \u001b[39m=\u001b[39m bracket[:\u001b[39m2\u001b[39m]\n\u001b[0;32m    278\u001b[0m \u001b[39mtry\u001b[39;00m:\n\u001b[1;32m--> 279\u001b[0m     r, sol \u001b[39m=\u001b[39m methodc(f, a, b, args\u001b[39m=\u001b[39;49margs, \u001b[39m*\u001b[39;49m\u001b[39m*\u001b[39;49mkwargs)\n\u001b[0;32m    280\u001b[0m \u001b[39mexcept\u001b[39;00m \u001b[39mValueError\u001b[39;00m \u001b[39mas\u001b[39;00m e:\n\u001b[0;32m    281\u001b[0m     \u001b[39m# gh-17622 fixed some bugs in low-level solvers by raising an error\u001b[39;00m\n\u001b[0;32m    282\u001b[0m     \u001b[39m# (rather than returning incorrect results) when the callable\u001b[39;00m\n\u001b[0;32m    283\u001b[0m     \u001b[39m# returns a NaN. It did so by wrapping the callable rather than\u001b[39;00m\n\u001b[0;32m    284\u001b[0m     \u001b[39m# modifying compiled code, so the iteration count is not available.\u001b[39;00m\n\u001b[0;32m    285\u001b[0m     \u001b[39mif\u001b[39;00m \u001b[39mhasattr\u001b[39m(e, \u001b[39m\"\u001b[39m\u001b[39m_x\u001b[39m\u001b[39m\"\u001b[39m):\n",
      "File \u001b[1;32md:\\360安全浏览器下载\\python\\Lib\\site-packages\\scipy\\optimize\\_zeros_py.py:573\u001b[0m, in \u001b[0;36mbisect\u001b[1;34m(f, a, b, args, xtol, rtol, maxiter, full_output, disp)\u001b[0m\n\u001b[0;32m    571\u001b[0m     \u001b[39mraise\u001b[39;00m \u001b[39mValueError\u001b[39;00m(\u001b[39mf\u001b[39m\u001b[39m\"\u001b[39m\u001b[39mrtol too small (\u001b[39m\u001b[39m{\u001b[39;00mrtol\u001b[39m:\u001b[39;00m\u001b[39mg\u001b[39m\u001b[39m}\u001b[39;00m\u001b[39m < \u001b[39m\u001b[39m{\u001b[39;00m_rtol\u001b[39m:\u001b[39;00m\u001b[39mg\u001b[39m\u001b[39m}\u001b[39;00m\u001b[39m)\u001b[39m\u001b[39m\"\u001b[39m)\n\u001b[0;32m    572\u001b[0m f \u001b[39m=\u001b[39m _wrap_nan_raise(f)\n\u001b[1;32m--> 573\u001b[0m r \u001b[39m=\u001b[39m _zeros\u001b[39m.\u001b[39;49m_bisect(f, a, b, xtol, rtol, maxiter, args, full_output, disp)\n\u001b[0;32m    574\u001b[0m \u001b[39mreturn\u001b[39;00m results_c(full_output, r)\n",
      "\u001b[1;31mValueError\u001b[0m: f(a) and f(b) must have different signs"
     ]
    }
   ],
   "source": [
    "from scipy.optimize import root_scalar\n",
    "import math\n",
    "import numpy as np\n",
    "\n",
    "# 求解 2*x - math.tan(x) 在 [-0.2, 1.4] 之间的根\n",
    "def f1(x):\n",
    "    return 2*x - math.tan(x)\n",
    "\n",
    "sol1 = root_scalar(f1, method='bisect', bracket=[0, 0.5])\n",
    "print(\"根1:\", sol1.root)\n",
    "\n",
    "# 求解 np.exp(x) - 2 - x 在 [-2, 2] 之间的根\n",
    "def f2(x):\n",
    "    return np.exp(x) - 2 - x\n",
    "\n",
    "sol2 = root_scalar(f2, method='bisect', bracket=[-1, 1])\n",
    "print(\"根2:\", sol2.root)\n",
    "\n",
    "# 求解 x**(-2) - math.sin(x) 在 [0.5, 4*math.pi] 之间的根\n",
    "def f3(x):\n",
    "    return x**(-2) - math.sin(x)\n",
    "\n",
    "sol3 = root_scalar(f3, method='bisect', bracket=[1, 10])\n",
    "print(\"根3:\", sol3.root)\n"
   ]
  },
  {
   "cell_type": "code",
   "execution_count": 14,
   "metadata": {},
   "outputs": [
    {
     "ename": "ValueError",
     "evalue": "f(a) and f(b) must have different signs",
     "output_type": "error",
     "traceback": [
      "\u001b[1;31m---------------------------------------------------------------------------\u001b[0m",
      "\u001b[1;31mValueError\u001b[0m                                Traceback (most recent call last)",
      "\u001b[1;32md:\\FDU\\fdu\\课\\大三上\\跨入科学之门 计算机的应用\\vscode final pj\\Untitled-1.ipynb Cell 12\u001b[0m line \u001b[0;36m9\n\u001b[0;32m      <a href='vscode-notebook-cell:/d%3A/FDU/fdu/%E8%AF%BE/%E5%A4%A7%E4%B8%89%E4%B8%8A/%E8%B7%A8%E5%85%A5%E7%A7%91%E5%AD%A6%E4%B9%8B%E9%97%A8%20%E8%AE%A1%E7%AE%97%E6%9C%BA%E7%9A%84%E5%BA%94%E7%94%A8/vscode%20final%20pj/Untitled-1.ipynb#X14sZmlsZQ%3D%3D?line=5'>6</a>\u001b[0m \u001b[39mdef\u001b[39;00m \u001b[39mf1\u001b[39m(x):\n\u001b[0;32m      <a href='vscode-notebook-cell:/d%3A/FDU/fdu/%E8%AF%BE/%E5%A4%A7%E4%B8%89%E4%B8%8A/%E8%B7%A8%E5%85%A5%E7%A7%91%E5%AD%A6%E4%B9%8B%E9%97%A8%20%E8%AE%A1%E7%AE%97%E6%9C%BA%E7%9A%84%E5%BA%94%E7%94%A8/vscode%20final%20pj/Untitled-1.ipynb#X14sZmlsZQ%3D%3D?line=6'>7</a>\u001b[0m     \u001b[39mreturn\u001b[39;00m \u001b[39m2\u001b[39m\u001b[39m*\u001b[39mx \u001b[39m-\u001b[39m math\u001b[39m.\u001b[39mtan(x)\n\u001b[1;32m----> <a href='vscode-notebook-cell:/d%3A/FDU/fdu/%E8%AF%BE/%E5%A4%A7%E4%B8%89%E4%B8%8A/%E8%B7%A8%E5%85%A5%E7%A7%91%E5%AD%A6%E4%B9%8B%E9%97%A8%20%E8%AE%A1%E7%AE%97%E6%9C%BA%E7%9A%84%E5%BA%94%E7%94%A8/vscode%20final%20pj/Untitled-1.ipynb#X14sZmlsZQ%3D%3D?line=8'>9</a>\u001b[0m sol1 \u001b[39m=\u001b[39m root_scalar(f1, method\u001b[39m=\u001b[39;49m\u001b[39m'\u001b[39;49m\u001b[39mbisect\u001b[39;49m\u001b[39m'\u001b[39;49m, bracket\u001b[39m=\u001b[39;49m[\u001b[39m-\u001b[39;49m\u001b[39m0.2\u001b[39;49m, \u001b[39m1.4\u001b[39;49m])\n\u001b[0;32m     <a href='vscode-notebook-cell:/d%3A/FDU/fdu/%E8%AF%BE/%E5%A4%A7%E4%B8%89%E4%B8%8A/%E8%B7%A8%E5%85%A5%E7%A7%91%E5%AD%A6%E4%B9%8B%E9%97%A8%20%E8%AE%A1%E7%AE%97%E6%9C%BA%E7%9A%84%E5%BA%94%E7%94%A8/vscode%20final%20pj/Untitled-1.ipynb#X14sZmlsZQ%3D%3D?line=9'>10</a>\u001b[0m \u001b[39mprint\u001b[39m(\u001b[39m\"\u001b[39m\u001b[39m根1:\u001b[39m\u001b[39m\"\u001b[39m, sol1\u001b[39m.\u001b[39mroot)\n",
      "File \u001b[1;32md:\\360安全浏览器下载\\python\\Lib\\site-packages\\scipy\\optimize\\_root_scalar.py:279\u001b[0m, in \u001b[0;36mroot_scalar\u001b[1;34m(f, args, method, bracket, fprime, fprime2, x0, x1, xtol, rtol, maxiter, options)\u001b[0m\n\u001b[0;32m    277\u001b[0m a, b \u001b[39m=\u001b[39m bracket[:\u001b[39m2\u001b[39m]\n\u001b[0;32m    278\u001b[0m \u001b[39mtry\u001b[39;00m:\n\u001b[1;32m--> 279\u001b[0m     r, sol \u001b[39m=\u001b[39m methodc(f, a, b, args\u001b[39m=\u001b[39;49margs, \u001b[39m*\u001b[39;49m\u001b[39m*\u001b[39;49mkwargs)\n\u001b[0;32m    280\u001b[0m \u001b[39mexcept\u001b[39;00m \u001b[39mValueError\u001b[39;00m \u001b[39mas\u001b[39;00m e:\n\u001b[0;32m    281\u001b[0m     \u001b[39m# gh-17622 fixed some bugs in low-level solvers by raising an error\u001b[39;00m\n\u001b[0;32m    282\u001b[0m     \u001b[39m# (rather than returning incorrect results) when the callable\u001b[39;00m\n\u001b[0;32m    283\u001b[0m     \u001b[39m# returns a NaN. It did so by wrapping the callable rather than\u001b[39;00m\n\u001b[0;32m    284\u001b[0m     \u001b[39m# modifying compiled code, so the iteration count is not available.\u001b[39;00m\n\u001b[0;32m    285\u001b[0m     \u001b[39mif\u001b[39;00m \u001b[39mhasattr\u001b[39m(e, \u001b[39m\"\u001b[39m\u001b[39m_x\u001b[39m\u001b[39m\"\u001b[39m):\n",
      "File \u001b[1;32md:\\360安全浏览器下载\\python\\Lib\\site-packages\\scipy\\optimize\\_zeros_py.py:573\u001b[0m, in \u001b[0;36mbisect\u001b[1;34m(f, a, b, args, xtol, rtol, maxiter, full_output, disp)\u001b[0m\n\u001b[0;32m    571\u001b[0m     \u001b[39mraise\u001b[39;00m \u001b[39mValueError\u001b[39;00m(\u001b[39mf\u001b[39m\u001b[39m\"\u001b[39m\u001b[39mrtol too small (\u001b[39m\u001b[39m{\u001b[39;00mrtol\u001b[39m:\u001b[39;00m\u001b[39mg\u001b[39m\u001b[39m}\u001b[39;00m\u001b[39m < \u001b[39m\u001b[39m{\u001b[39;00m_rtol\u001b[39m:\u001b[39;00m\u001b[39mg\u001b[39m\u001b[39m}\u001b[39;00m\u001b[39m)\u001b[39m\u001b[39m\"\u001b[39m)\n\u001b[0;32m    572\u001b[0m f \u001b[39m=\u001b[39m _wrap_nan_raise(f)\n\u001b[1;32m--> 573\u001b[0m r \u001b[39m=\u001b[39m _zeros\u001b[39m.\u001b[39;49m_bisect(f, a, b, xtol, rtol, maxiter, args, full_output, disp)\n\u001b[0;32m    574\u001b[0m \u001b[39mreturn\u001b[39;00m results_c(full_output, r)\n",
      "\u001b[1;31mValueError\u001b[0m: f(a) and f(b) must have different signs"
     ]
    }
   ],
   "source": [
    "from scipy.optimize import root_scalar\n",
    "import math\n",
    "import numpy as np\n",
    "\n",
    "#1\n",
    "def f1(x):\n",
    "    return 2*x - math.tan(x)\n",
    "\n",
    "sol1 = root_scalar(f1, method='bisect', bracket=[-0.2, 1.4])\n",
    "print(\"根1:\", sol1.root)"
   ]
  },
  {
   "cell_type": "code",
   "execution_count": 15,
   "metadata": {},
   "outputs": [
    {
     "name": "stdout",
     "output_type": "stream",
     "text": [
      "根1: 1.1655611852058425\n"
     ]
    },
    {
     "ename": "ValueError",
     "evalue": "f(a) and f(b) must have different signs",
     "output_type": "error",
     "traceback": [
      "\u001b[1;31m---------------------------------------------------------------------------\u001b[0m",
      "\u001b[1;31mValueError\u001b[0m                                Traceback (most recent call last)",
      "\u001b[1;32md:\\FDU\\fdu\\课\\大三上\\跨入科学之门 计算机的应用\\vscode final pj\\Untitled-1.ipynb Cell 13\u001b[0m line \u001b[0;36m1\n\u001b[0;32m     <a href='vscode-notebook-cell:/d%3A/FDU/fdu/%E8%AF%BE/%E5%A4%A7%E4%B8%89%E4%B8%8A/%E8%B7%A8%E5%85%A5%E7%A7%91%E5%AD%A6%E4%B9%8B%E9%97%A8%20%E8%AE%A1%E7%AE%97%E6%9C%BA%E7%9A%84%E5%BA%94%E7%94%A8/vscode%20final%20pj/Untitled-1.ipynb#X15sZmlsZQ%3D%3D?line=12'>13</a>\u001b[0m \u001b[39mdef\u001b[39;00m \u001b[39mf2\u001b[39m(x):\n\u001b[0;32m     <a href='vscode-notebook-cell:/d%3A/FDU/fdu/%E8%AF%BE/%E5%A4%A7%E4%B8%89%E4%B8%8A/%E8%B7%A8%E5%85%A5%E7%A7%91%E5%AD%A6%E4%B9%8B%E9%97%A8%20%E8%AE%A1%E7%AE%97%E6%9C%BA%E7%9A%84%E5%BA%94%E7%94%A8/vscode%20final%20pj/Untitled-1.ipynb#X15sZmlsZQ%3D%3D?line=13'>14</a>\u001b[0m     \u001b[39mreturn\u001b[39;00m np\u001b[39m.\u001b[39mexp(x) \u001b[39m-\u001b[39m \u001b[39m2\u001b[39m \u001b[39m-\u001b[39m x\n\u001b[1;32m---> <a href='vscode-notebook-cell:/d%3A/FDU/fdu/%E8%AF%BE/%E5%A4%A7%E4%B8%89%E4%B8%8A/%E8%B7%A8%E5%85%A5%E7%A7%91%E5%AD%A6%E4%B9%8B%E9%97%A8%20%E8%AE%A1%E7%AE%97%E6%9C%BA%E7%9A%84%E5%BA%94%E7%94%A8/vscode%20final%20pj/Untitled-1.ipynb#X15sZmlsZQ%3D%3D?line=15'>16</a>\u001b[0m sol2 \u001b[39m=\u001b[39m root_scalar(f2, method\u001b[39m=\u001b[39;49m\u001b[39m'\u001b[39;49m\u001b[39mbisect\u001b[39;49m\u001b[39m'\u001b[39;49m, bracket\u001b[39m=\u001b[39;49m[\u001b[39m-\u001b[39;49m\u001b[39m1\u001b[39;49m, \u001b[39m0.5\u001b[39;49m])\n\u001b[0;32m     <a href='vscode-notebook-cell:/d%3A/FDU/fdu/%E8%AF%BE/%E5%A4%A7%E4%B8%89%E4%B8%8A/%E8%B7%A8%E5%85%A5%E7%A7%91%E5%AD%A6%E4%B9%8B%E9%97%A8%20%E8%AE%A1%E7%AE%97%E6%9C%BA%E7%9A%84%E5%BA%94%E7%94%A8/vscode%20final%20pj/Untitled-1.ipynb#X15sZmlsZQ%3D%3D?line=16'>17</a>\u001b[0m \u001b[39mprint\u001b[39m(\u001b[39m\"\u001b[39m\u001b[39m根2:\u001b[39m\u001b[39m\"\u001b[39m, sol2\u001b[39m.\u001b[39mroot)\n\u001b[0;32m     <a href='vscode-notebook-cell:/d%3A/FDU/fdu/%E8%AF%BE/%E5%A4%A7%E4%B8%89%E4%B8%8A/%E8%B7%A8%E5%85%A5%E7%A7%91%E5%AD%A6%E4%B9%8B%E9%97%A8%20%E8%AE%A1%E7%AE%97%E6%9C%BA%E7%9A%84%E5%BA%94%E7%94%A8/vscode%20final%20pj/Untitled-1.ipynb#X15sZmlsZQ%3D%3D?line=18'>19</a>\u001b[0m \u001b[39m# 求解 x**(-2) - math.sin(x) 在 [0.5, 4*math.pi] 之间的根\u001b[39;00m\n",
      "File \u001b[1;32md:\\360安全浏览器下载\\python\\Lib\\site-packages\\scipy\\optimize\\_root_scalar.py:279\u001b[0m, in \u001b[0;36mroot_scalar\u001b[1;34m(f, args, method, bracket, fprime, fprime2, x0, x1, xtol, rtol, maxiter, options)\u001b[0m\n\u001b[0;32m    277\u001b[0m a, b \u001b[39m=\u001b[39m bracket[:\u001b[39m2\u001b[39m]\n\u001b[0;32m    278\u001b[0m \u001b[39mtry\u001b[39;00m:\n\u001b[1;32m--> 279\u001b[0m     r, sol \u001b[39m=\u001b[39m methodc(f, a, b, args\u001b[39m=\u001b[39;49margs, \u001b[39m*\u001b[39;49m\u001b[39m*\u001b[39;49mkwargs)\n\u001b[0;32m    280\u001b[0m \u001b[39mexcept\u001b[39;00m \u001b[39mValueError\u001b[39;00m \u001b[39mas\u001b[39;00m e:\n\u001b[0;32m    281\u001b[0m     \u001b[39m# gh-17622 fixed some bugs in low-level solvers by raising an error\u001b[39;00m\n\u001b[0;32m    282\u001b[0m     \u001b[39m# (rather than returning incorrect results) when the callable\u001b[39;00m\n\u001b[0;32m    283\u001b[0m     \u001b[39m# returns a NaN. It did so by wrapping the callable rather than\u001b[39;00m\n\u001b[0;32m    284\u001b[0m     \u001b[39m# modifying compiled code, so the iteration count is not available.\u001b[39;00m\n\u001b[0;32m    285\u001b[0m     \u001b[39mif\u001b[39;00m \u001b[39mhasattr\u001b[39m(e, \u001b[39m\"\u001b[39m\u001b[39m_x\u001b[39m\u001b[39m\"\u001b[39m):\n",
      "File \u001b[1;32md:\\360安全浏览器下载\\python\\Lib\\site-packages\\scipy\\optimize\\_zeros_py.py:573\u001b[0m, in \u001b[0;36mbisect\u001b[1;34m(f, a, b, args, xtol, rtol, maxiter, full_output, disp)\u001b[0m\n\u001b[0;32m    571\u001b[0m     \u001b[39mraise\u001b[39;00m \u001b[39mValueError\u001b[39;00m(\u001b[39mf\u001b[39m\u001b[39m\"\u001b[39m\u001b[39mrtol too small (\u001b[39m\u001b[39m{\u001b[39;00mrtol\u001b[39m:\u001b[39;00m\u001b[39mg\u001b[39m\u001b[39m}\u001b[39;00m\u001b[39m < \u001b[39m\u001b[39m{\u001b[39;00m_rtol\u001b[39m:\u001b[39;00m\u001b[39mg\u001b[39m\u001b[39m}\u001b[39;00m\u001b[39m)\u001b[39m\u001b[39m\"\u001b[39m)\n\u001b[0;32m    572\u001b[0m f \u001b[39m=\u001b[39m _wrap_nan_raise(f)\n\u001b[1;32m--> 573\u001b[0m r \u001b[39m=\u001b[39m _zeros\u001b[39m.\u001b[39;49m_bisect(f, a, b, xtol, rtol, maxiter, args, full_output, disp)\n\u001b[0;32m    574\u001b[0m \u001b[39mreturn\u001b[39;00m results_c(full_output, r)\n",
      "\u001b[1;31mValueError\u001b[0m: f(a) and f(b) must have different signs"
     ]
    }
   ],
   "source": [
    "from scipy.optimize import root_scalar\n",
    "import math\n",
    "import numpy as np\n",
    "\n",
    "def f1(x):\n",
    "    return 2*x - math.tan(x)\n",
    "\n",
    "sol1 = root_scalar(f1, method='bisect', bracket=[0.1, 1.2])\n",
    "print(\"根1:\", sol1.root)\n",
    "\n",
    "# 求解 np.exp(x) - 2 - x 在 [-2, 2] 之间的根\n",
    "def f2(x):\n",
    "    return np.exp(x) - 2 - x\n",
    "\n",
    "sol2 = root_scalar(f2, method='bisect', bracket=[-1, 0.5])\n",
    "print(\"根2:\", sol2.root)\n",
    "\n",
    "# 求解 x**(-2) - math.sin(x) 在 [0.5, 4*math.pi] 之间的根\n",
    "def f3(x):\n",
    "    return x**(-2) - math.sin(x)\n",
    "\n",
    "sol3 = root_scalar(f3, method='bisect', bracket=[1, 10])\n",
    "print(\"根3:\", sol3.root)\n"
   ]
  },
  {
   "cell_type": "code",
   "execution_count": 24,
   "metadata": {},
   "outputs": [],
   "source": [
    "#问题三 （1）\n",
    "from scipy.optimize import root_scalar\n",
    "import math\n",
    "import numpy as np\n",
    "\n",
    "def f1(x):\n",
    "    return 2*x - math.tan(x)\n"
   ]
  },
  {
   "cell_type": "code",
   "execution_count": 26,
   "metadata": {},
   "outputs": [
    {
     "data": {
      "text/plain": [
       "      converged: True\n",
       "           flag: converged\n",
       " function_calls: 41\n",
       "     iterations: 39\n",
       "           root: -1.0914047443577601e-12"
      ]
     },
     "execution_count": 26,
     "metadata": {},
     "output_type": "execute_result"
    }
   ],
   "source": [
    "root_scalar(f1, method='bisect', bracket=[-0.2, 0.8])"
   ]
  },
  {
   "cell_type": "code",
   "execution_count": 25,
   "metadata": {},
   "outputs": [
    {
     "data": {
      "text/plain": [
       "      converged: True\n",
       "           flag: converged\n",
       " function_calls: 41\n",
       "     iterations: 39\n",
       "           root: 1.165561185206389"
      ]
     },
     "execution_count": 25,
     "metadata": {},
     "output_type": "execute_result"
    }
   ],
   "source": [
    "root_scalar(f1, method='bisect', bracket=[0.8, 1.4])"
   ]
  },
  {
   "cell_type": "code",
   "execution_count": null,
   "metadata": {},
   "outputs": [],
   "source": [
    "#第二问\n",
    "def f1(x):\n",
    "    return np.exp(x+1)-2-x"
   ]
  },
  {
   "cell_type": "code",
   "execution_count": 27,
   "metadata": {},
   "outputs": [],
   "source": [
    "#第三问\n",
    "def f3(x):\n",
    "    return x**(-2)-math.sin(x)"
   ]
  },
  {
   "cell_type": "code",
   "execution_count": 28,
   "metadata": {},
   "outputs": [
    {
     "data": {
      "text/plain": [
       "      converged: True\n",
       "           flag: converged\n",
       " function_calls: 42\n",
       "     iterations: 40\n",
       "           root: 1.0682235441977355"
      ]
     },
     "execution_count": 28,
     "metadata": {},
     "output_type": "execute_result"
    }
   ],
   "source": [
    "root_scalar(f3, method='bisect', bracket=[0.5, 2])"
   ]
  },
  {
   "cell_type": "code",
   "execution_count": 29,
   "metadata": {},
   "outputs": [
    {
     "name": "stdout",
     "output_type": "stream",
     "text": [
      "[-0.99999999]\n"
     ]
    }
   ],
   "source": [
    "import numpy as np\n",
    "from scipy.optimize import root\n",
    "\n",
    "def func(x):\n",
    "    return np.exp(x+1)-2-x\n",
    "\n",
    "sol = root(func, 0)\n",
    "print(sol.x)\n"
   ]
  },
  {
   "cell_type": "code",
   "execution_count": 30,
   "metadata": {},
   "outputs": [
    {
     "ename": "ValueError",
     "evalue": "f(a) and f(b) must have different signs",
     "output_type": "error",
     "traceback": [
      "\u001b[1;31m---------------------------------------------------------------------------\u001b[0m",
      "\u001b[1;31mValueError\u001b[0m                                Traceback (most recent call last)",
      "\u001b[1;32md:\\FDU\\fdu\\课\\大三上\\跨入科学之门 计算机的应用\\vscode final pj\\Untitled-1.ipynb Cell 21\u001b[0m line \u001b[0;36m7\n\u001b[0;32m      <a href='vscode-notebook-cell:/d%3A/FDU/fdu/%E8%AF%BE/%E5%A4%A7%E4%B8%89%E4%B8%8A/%E8%B7%A8%E5%85%A5%E7%A7%91%E5%AD%A6%E4%B9%8B%E9%97%A8%20%E8%AE%A1%E7%AE%97%E6%9C%BA%E7%9A%84%E5%BA%94%E7%94%A8/vscode%20final%20pj/Untitled-1.ipynb#X31sZmlsZQ%3D%3D?line=3'>4</a>\u001b[0m \u001b[39mdef\u001b[39;00m \u001b[39mfunc\u001b[39m(x):\n\u001b[0;32m      <a href='vscode-notebook-cell:/d%3A/FDU/fdu/%E8%AF%BE/%E5%A4%A7%E4%B8%89%E4%B8%8A/%E8%B7%A8%E5%85%A5%E7%A7%91%E5%AD%A6%E4%B9%8B%E9%97%A8%20%E8%AE%A1%E7%AE%97%E6%9C%BA%E7%9A%84%E5%BA%94%E7%94%A8/vscode%20final%20pj/Untitled-1.ipynb#X31sZmlsZQ%3D%3D?line=4'>5</a>\u001b[0m     \u001b[39mreturn\u001b[39;00m np\u001b[39m.\u001b[39mexp(x\u001b[39m+\u001b[39m\u001b[39m1\u001b[39m)\u001b[39m-\u001b[39m\u001b[39m2\u001b[39m\u001b[39m-\u001b[39mx\n\u001b[1;32m----> <a href='vscode-notebook-cell:/d%3A/FDU/fdu/%E8%AF%BE/%E5%A4%A7%E4%B8%89%E4%B8%8A/%E8%B7%A8%E5%85%A5%E7%A7%91%E5%AD%A6%E4%B9%8B%E9%97%A8%20%E8%AE%A1%E7%AE%97%E6%9C%BA%E7%9A%84%E5%BA%94%E7%94%A8/vscode%20final%20pj/Untitled-1.ipynb#X31sZmlsZQ%3D%3D?line=6'>7</a>\u001b[0m sol \u001b[39m=\u001b[39m root_scalar(func, bracket\u001b[39m=\u001b[39;49m[\u001b[39m-\u001b[39;49m\u001b[39m2\u001b[39;49m, \u001b[39m2\u001b[39;49m])\n\u001b[0;32m      <a href='vscode-notebook-cell:/d%3A/FDU/fdu/%E8%AF%BE/%E5%A4%A7%E4%B8%89%E4%B8%8A/%E8%B7%A8%E5%85%A5%E7%A7%91%E5%AD%A6%E4%B9%8B%E9%97%A8%20%E8%AE%A1%E7%AE%97%E6%9C%BA%E7%9A%84%E5%BA%94%E7%94%A8/vscode%20final%20pj/Untitled-1.ipynb#X31sZmlsZQ%3D%3D?line=7'>8</a>\u001b[0m \u001b[39mprint\u001b[39m(sol\u001b[39m.\u001b[39mroot)\n",
      "File \u001b[1;32md:\\360安全浏览器下载\\python\\Lib\\site-packages\\scipy\\optimize\\_root_scalar.py:279\u001b[0m, in \u001b[0;36mroot_scalar\u001b[1;34m(f, args, method, bracket, fprime, fprime2, x0, x1, xtol, rtol, maxiter, options)\u001b[0m\n\u001b[0;32m    277\u001b[0m a, b \u001b[39m=\u001b[39m bracket[:\u001b[39m2\u001b[39m]\n\u001b[0;32m    278\u001b[0m \u001b[39mtry\u001b[39;00m:\n\u001b[1;32m--> 279\u001b[0m     r, sol \u001b[39m=\u001b[39m methodc(f, a, b, args\u001b[39m=\u001b[39;49margs, \u001b[39m*\u001b[39;49m\u001b[39m*\u001b[39;49mkwargs)\n\u001b[0;32m    280\u001b[0m \u001b[39mexcept\u001b[39;00m \u001b[39mValueError\u001b[39;00m \u001b[39mas\u001b[39;00m e:\n\u001b[0;32m    281\u001b[0m     \u001b[39m# gh-17622 fixed some bugs in low-level solvers by raising an error\u001b[39;00m\n\u001b[0;32m    282\u001b[0m     \u001b[39m# (rather than returning incorrect results) when the callable\u001b[39;00m\n\u001b[0;32m    283\u001b[0m     \u001b[39m# returns a NaN. It did so by wrapping the callable rather than\u001b[39;00m\n\u001b[0;32m    284\u001b[0m     \u001b[39m# modifying compiled code, so the iteration count is not available.\u001b[39;00m\n\u001b[0;32m    285\u001b[0m     \u001b[39mif\u001b[39;00m \u001b[39mhasattr\u001b[39m(e, \u001b[39m\"\u001b[39m\u001b[39m_x\u001b[39m\u001b[39m\"\u001b[39m):\n",
      "File \u001b[1;32md:\\360安全浏览器下载\\python\\Lib\\site-packages\\scipy\\optimize\\_zeros_py.py:802\u001b[0m, in \u001b[0;36mbrentq\u001b[1;34m(f, a, b, args, xtol, rtol, maxiter, full_output, disp)\u001b[0m\n\u001b[0;32m    800\u001b[0m     \u001b[39mraise\u001b[39;00m \u001b[39mValueError\u001b[39;00m(\u001b[39mf\u001b[39m\u001b[39m\"\u001b[39m\u001b[39mrtol too small (\u001b[39m\u001b[39m{\u001b[39;00mrtol\u001b[39m:\u001b[39;00m\u001b[39mg\u001b[39m\u001b[39m}\u001b[39;00m\u001b[39m < \u001b[39m\u001b[39m{\u001b[39;00m_rtol\u001b[39m:\u001b[39;00m\u001b[39mg\u001b[39m\u001b[39m}\u001b[39;00m\u001b[39m)\u001b[39m\u001b[39m\"\u001b[39m)\n\u001b[0;32m    801\u001b[0m f \u001b[39m=\u001b[39m _wrap_nan_raise(f)\n\u001b[1;32m--> 802\u001b[0m r \u001b[39m=\u001b[39m _zeros\u001b[39m.\u001b[39;49m_brentq(f, a, b, xtol, rtol, maxiter, args, full_output, disp)\n\u001b[0;32m    803\u001b[0m \u001b[39mreturn\u001b[39;00m results_c(full_output, r)\n",
      "\u001b[1;31mValueError\u001b[0m: f(a) and f(b) must have different signs"
     ]
    }
   ],
   "source": [
    "import numpy as np\n",
    "from scipy.optimize import root_scalar\n",
    "\n",
    "def func(x):\n",
    "    return np.exp(x+1)-2-x\n",
    "\n",
    "sol = root_scalar(func, bracket=[-2, 2])\n",
    "print(sol.root)\n"
   ]
  },
  {
   "cell_type": "code",
   "execution_count": 31,
   "metadata": {},
   "outputs": [
    {
     "ename": "ValueError",
     "evalue": "f(a) and f(b) must have different signs",
     "output_type": "error",
     "traceback": [
      "\u001b[1;31m---------------------------------------------------------------------------\u001b[0m",
      "\u001b[1;31mValueError\u001b[0m                                Traceback (most recent call last)",
      "\u001b[1;32md:\\FDU\\fdu\\课\\大三上\\跨入科学之门 计算机的应用\\vscode final pj\\Untitled-1.ipynb Cell 22\u001b[0m line \u001b[0;36m9\n\u001b[0;32m      <a href='vscode-notebook-cell:/d%3A/FDU/fdu/%E8%AF%BE/%E5%A4%A7%E4%B8%89%E4%B8%8A/%E8%B7%A8%E5%85%A5%E7%A7%91%E5%AD%A6%E4%B9%8B%E9%97%A8%20%E8%AE%A1%E7%AE%97%E6%9C%BA%E7%9A%84%E5%BA%94%E7%94%A8/vscode%20final%20pj/Untitled-1.ipynb#X32sZmlsZQ%3D%3D?line=5'>6</a>\u001b[0m     \u001b[39mreturn\u001b[39;00m np\u001b[39m.\u001b[39mexp(x \u001b[39m+\u001b[39m \u001b[39m1\u001b[39m) \u001b[39m-\u001b[39m \u001b[39m2\u001b[39m \u001b[39m-\u001b[39m x\n\u001b[0;32m      <a href='vscode-notebook-cell:/d%3A/FDU/fdu/%E8%AF%BE/%E5%A4%A7%E4%B8%89%E4%B8%8A/%E8%B7%A8%E5%85%A5%E7%A7%91%E5%AD%A6%E4%B9%8B%E9%97%A8%20%E8%AE%A1%E7%AE%97%E6%9C%BA%E7%9A%84%E5%BA%94%E7%94%A8/vscode%20final%20pj/Untitled-1.ipynb#X32sZmlsZQ%3D%3D?line=7'>8</a>\u001b[0m \u001b[39m# 求根\u001b[39;00m\n\u001b[1;32m----> <a href='vscode-notebook-cell:/d%3A/FDU/fdu/%E8%AF%BE/%E5%A4%A7%E4%B8%89%E4%B8%8A/%E8%B7%A8%E5%85%A5%E7%A7%91%E5%AD%A6%E4%B9%8B%E9%97%A8%20%E8%AE%A1%E7%AE%97%E6%9C%BA%E7%9A%84%E5%BA%94%E7%94%A8/vscode%20final%20pj/Untitled-1.ipynb#X32sZmlsZQ%3D%3D?line=8'>9</a>\u001b[0m root \u001b[39m=\u001b[39m bisect(equation, \u001b[39m-\u001b[39;49m\u001b[39m2\u001b[39;49m, \u001b[39m2\u001b[39;49m)\n\u001b[0;32m     <a href='vscode-notebook-cell:/d%3A/FDU/fdu/%E8%AF%BE/%E5%A4%A7%E4%B8%89%E4%B8%8A/%E8%B7%A8%E5%85%A5%E7%A7%91%E5%AD%A6%E4%B9%8B%E9%97%A8%20%E8%AE%A1%E7%AE%97%E6%9C%BA%E7%9A%84%E5%BA%94%E7%94%A8/vscode%20final%20pj/Untitled-1.ipynb#X32sZmlsZQ%3D%3D?line=9'>10</a>\u001b[0m \u001b[39mprint\u001b[39m(\u001b[39m\"\u001b[39m\u001b[39m方程的根为:\u001b[39m\u001b[39m\"\u001b[39m, root)\n",
      "File \u001b[1;32md:\\360安全浏览器下载\\python\\Lib\\site-packages\\scipy\\optimize\\_zeros_py.py:573\u001b[0m, in \u001b[0;36mbisect\u001b[1;34m(f, a, b, args, xtol, rtol, maxiter, full_output, disp)\u001b[0m\n\u001b[0;32m    571\u001b[0m     \u001b[39mraise\u001b[39;00m \u001b[39mValueError\u001b[39;00m(\u001b[39mf\u001b[39m\u001b[39m\"\u001b[39m\u001b[39mrtol too small (\u001b[39m\u001b[39m{\u001b[39;00mrtol\u001b[39m:\u001b[39;00m\u001b[39mg\u001b[39m\u001b[39m}\u001b[39;00m\u001b[39m < \u001b[39m\u001b[39m{\u001b[39;00m_rtol\u001b[39m:\u001b[39;00m\u001b[39mg\u001b[39m\u001b[39m}\u001b[39;00m\u001b[39m)\u001b[39m\u001b[39m\"\u001b[39m)\n\u001b[0;32m    572\u001b[0m f \u001b[39m=\u001b[39m _wrap_nan_raise(f)\n\u001b[1;32m--> 573\u001b[0m r \u001b[39m=\u001b[39m _zeros\u001b[39m.\u001b[39;49m_bisect(f, a, b, xtol, rtol, maxiter, args, full_output, disp)\n\u001b[0;32m    574\u001b[0m \u001b[39mreturn\u001b[39;00m results_c(full_output, r)\n",
      "\u001b[1;31mValueError\u001b[0m: f(a) and f(b) must have different signs"
     ]
    }
   ],
   "source": [
    "\n",
    "import numpy as np\n",
    "from scipy.optimize import bisect\n",
    "\n",
    "# 定义方程\n",
    "def equation(x):\n",
    "    return np.exp(x + 1) - 2 - x\n",
    "\n",
    "# 求根\n",
    "root = bisect(equation, -2, 2)\n",
    "print(\"方程的根为:\", root)\n"
   ]
  },
  {
   "cell_type": "code",
   "execution_count": 5,
   "metadata": {},
   "outputs": [
    {
     "ename": "SyntaxError",
     "evalue": "cannot assign to function call here. Maybe you meant '==' instead of '='? (3167035552.py, line 20)",
     "output_type": "error",
     "traceback": [
      "\u001b[1;36m  Cell \u001b[1;32mIn[5], line 20\u001b[1;36m\u001b[0m\n\u001b[1;33m    F(i)=midpoint\u001b[0m\n\u001b[1;37m    ^\u001b[0m\n\u001b[1;31mSyntaxError\u001b[0m\u001b[1;31m:\u001b[0m cannot assign to function call here. Maybe you meant '==' instead of '='?\n"
     ]
    }
   ],
   "source": [
    "#问题4 用bisection算法求解\n",
    "def f(x):\n",
    "    return x**2-2\n",
    "\n",
    "a=1\n",
    "b=2\n",
    "epsilon=10**(-10)\n",
    "\n",
    "def F(x_i):\n",
    "    return (a+b)/2\n",
    "\n",
    "i=1\n",
    "\n",
    "while (b-a)/2 > epsilon :\n",
    "    midpoint = (a+b)/2\n",
    "    if f(midpoint)==0 :\n",
    "        print(midpoint)\n",
    "        break\n",
    "    elif f(a)*f(midpoint)<0:\n",
    "        F(i)=midpoint\n",
    "        i=i+1\n",
    "        b=midpoint\n",
    "    elif f(a)*f(midpoint)>0:\n",
    "        F(i)=midpoint\n",
    "        i=i+1\n",
    "        a=midpoint"
   ]
  },
  {
   "cell_type": "code",
   "execution_count": 2,
   "metadata": {},
   "outputs": [
    {
     "ename": "KeyboardInterrupt",
     "evalue": "",
     "output_type": "error",
     "traceback": [
      "\u001b[1;31m---------------------------------------------------------------------------\u001b[0m",
      "\u001b[1;31mKeyboardInterrupt\u001b[0m                         Traceback (most recent call last)",
      "\u001b[1;32md:\\FDU\\fdu\\课\\大三上\\跨入科学之门 计算机的应用\\vscode final pj\\Untitled-1.ipynb Cell 24\u001b[0m line \u001b[0;36m4\n\u001b[0;32m     <a href='vscode-notebook-cell:/d%3A/FDU/fdu/%E8%AF%BE/%E5%A4%A7%E4%B8%89%E4%B8%8A/%E8%B7%A8%E5%85%A5%E7%A7%91%E5%AD%A6%E4%B9%8B%E9%97%A8%20%E8%AE%A1%E7%AE%97%E6%9C%BA%E7%9A%84%E5%BA%94%E7%94%A8/vscode%20final%20pj/Untitled-1.ipynb#X32sZmlsZQ%3D%3D?line=43'>44</a>\u001b[0m \u001b[39m# 绘制图表展示结果\u001b[39;00m\n\u001b[0;32m     <a href='vscode-notebook-cell:/d%3A/FDU/fdu/%E8%AF%BE/%E5%A4%A7%E4%B8%89%E4%B8%8A/%E8%B7%A8%E5%85%A5%E7%A7%91%E5%AD%A6%E4%B9%8B%E9%97%A8%20%E8%AE%A1%E7%AE%97%E6%9C%BA%E7%9A%84%E5%BA%94%E7%94%A8/vscode%20final%20pj/Untitled-1.ipynb#X32sZmlsZQ%3D%3D?line=44'>45</a>\u001b[0m x \u001b[39m=\u001b[39m \u001b[39mrange\u001b[39m(\u001b[39m1\u001b[39m, \u001b[39m100\u001b[39m)\n\u001b[1;32m---> <a href='vscode-notebook-cell:/d%3A/FDU/fdu/%E8%AF%BE/%E5%A4%A7%E4%B8%89%E4%B8%8A/%E8%B7%A8%E5%85%A5%E7%A7%91%E5%AD%A6%E4%B9%8B%E9%97%A8%20%E8%AE%A1%E7%AE%97%E6%9C%BA%E7%9A%84%E5%BA%94%E7%94%A8/vscode%20final%20pj/Untitled-1.ipynb#X32sZmlsZQ%3D%3D?line=45'>46</a>\u001b[0m y_bisection \u001b[39m=\u001b[39m [bisection(f, a, b, \u001b[39m1\u001b[39;49m\u001b[39m/\u001b[39;49m\u001b[39m10\u001b[39;49m\u001b[39m*\u001b[39;49m\u001b[39m*\u001b[39;49mx) \u001b[39mfor\u001b[39;00m x \u001b[39min\u001b[39;00m x]\n\u001b[0;32m     <a href='vscode-notebook-cell:/d%3A/FDU/fdu/%E8%AF%BE/%E5%A4%A7%E4%B8%89%E4%B8%8A/%E8%B7%A8%E5%85%A5%E7%A7%91%E5%AD%A6%E4%B9%8B%E9%97%A8%20%E8%AE%A1%E7%AE%97%E6%9C%BA%E7%9A%84%E5%BA%94%E7%94%A8/vscode%20final%20pj/Untitled-1.ipynb#X32sZmlsZQ%3D%3D?line=46'>47</a>\u001b[0m y_newton \u001b[39m=\u001b[39m [newton(f, df, (a\u001b[39m+\u001b[39mb)\u001b[39m/\u001b[39m\u001b[39m2\u001b[39m, \u001b[39m1\u001b[39m\u001b[39m/\u001b[39m\u001b[39m10\u001b[39m\u001b[39m*\u001b[39m\u001b[39m*\u001b[39mx) \u001b[39mfor\u001b[39;00m x \u001b[39min\u001b[39;00m x]\n\u001b[0;32m     <a href='vscode-notebook-cell:/d%3A/FDU/fdu/%E8%AF%BE/%E5%A4%A7%E4%B8%89%E4%B8%8A/%E8%B7%A8%E5%85%A5%E7%A7%91%E5%AD%A6%E4%B9%8B%E9%97%A8%20%E8%AE%A1%E7%AE%97%E6%9C%BA%E7%9A%84%E5%BA%94%E7%94%A8/vscode%20final%20pj/Untitled-1.ipynb#X32sZmlsZQ%3D%3D?line=48'>49</a>\u001b[0m plt\u001b[39m.\u001b[39mplot(x, y_bisection, label\u001b[39m=\u001b[39m\u001b[39m'\u001b[39m\u001b[39mBisection\u001b[39m\u001b[39m'\u001b[39m)\n",
      "\u001b[1;32md:\\FDU\\fdu\\课\\大三上\\跨入科学之门 计算机的应用\\vscode final pj\\Untitled-1.ipynb Cell 24\u001b[0m line \u001b[0;36m1\n\u001b[0;32m     <a href='vscode-notebook-cell:/d%3A/FDU/fdu/%E8%AF%BE/%E5%A4%A7%E4%B8%89%E4%B8%8A/%E8%B7%A8%E5%85%A5%E7%A7%91%E5%AD%A6%E4%B9%8B%E9%97%A8%20%E8%AE%A1%E7%AE%97%E6%9C%BA%E7%9A%84%E5%BA%94%E7%94%A8/vscode%20final%20pj/Untitled-1.ipynb#X32sZmlsZQ%3D%3D?line=13'>14</a>\u001b[0m \u001b[39mif\u001b[39;00m f(midpoint) \u001b[39m==\u001b[39m \u001b[39m0\u001b[39m:\n\u001b[0;32m     <a href='vscode-notebook-cell:/d%3A/FDU/fdu/%E8%AF%BE/%E5%A4%A7%E4%B8%89%E4%B8%8A/%E8%B7%A8%E5%85%A5%E7%A7%91%E5%AD%A6%E4%B9%8B%E9%97%A8%20%E8%AE%A1%E7%AE%97%E6%9C%BA%E7%9A%84%E5%BA%94%E7%94%A8/vscode%20final%20pj/Untitled-1.ipynb#X32sZmlsZQ%3D%3D?line=14'>15</a>\u001b[0m     \u001b[39mreturn\u001b[39;00m midpoint\n\u001b[1;32m---> <a href='vscode-notebook-cell:/d%3A/FDU/fdu/%E8%AF%BE/%E5%A4%A7%E4%B8%89%E4%B8%8A/%E8%B7%A8%E5%85%A5%E7%A7%91%E5%AD%A6%E4%B9%8B%E9%97%A8%20%E8%AE%A1%E7%AE%97%E6%9C%BA%E7%9A%84%E5%BA%94%E7%94%A8/vscode%20final%20pj/Untitled-1.ipynb#X32sZmlsZQ%3D%3D?line=15'>16</a>\u001b[0m \u001b[39melif\u001b[39;00m f(a)\u001b[39m*\u001b[39mf(midpoint) \u001b[39m<\u001b[39m \u001b[39m0\u001b[39m:\n\u001b[0;32m     <a href='vscode-notebook-cell:/d%3A/FDU/fdu/%E8%AF%BE/%E5%A4%A7%E4%B8%89%E4%B8%8A/%E8%B7%A8%E5%85%A5%E7%A7%91%E5%AD%A6%E4%B9%8B%E9%97%A8%20%E8%AE%A1%E7%AE%97%E6%9C%BA%E7%9A%84%E5%BA%94%E7%94%A8/vscode%20final%20pj/Untitled-1.ipynb#X32sZmlsZQ%3D%3D?line=16'>17</a>\u001b[0m     b \u001b[39m=\u001b[39m midpoint\n\u001b[0;32m     <a href='vscode-notebook-cell:/d%3A/FDU/fdu/%E8%AF%BE/%E5%A4%A7%E4%B8%89%E4%B8%8A/%E8%B7%A8%E5%85%A5%E7%A7%91%E5%AD%A6%E4%B9%8B%E9%97%A8%20%E8%AE%A1%E7%AE%97%E6%9C%BA%E7%9A%84%E5%BA%94%E7%94%A8/vscode%20final%20pj/Untitled-1.ipynb#X32sZmlsZQ%3D%3D?line=17'>18</a>\u001b[0m \u001b[39melse\u001b[39;00m:\n",
      "\u001b[1;32md:\\FDU\\fdu\\课\\大三上\\跨入科学之门 计算机的应用\\vscode final pj\\Untitled-1.ipynb Cell 24\u001b[0m line \u001b[0;36m4\n\u001b[0;32m      <a href='vscode-notebook-cell:/d%3A/FDU/fdu/%E8%AF%BE/%E5%A4%A7%E4%B8%89%E4%B8%8A/%E8%B7%A8%E5%85%A5%E7%A7%91%E5%AD%A6%E4%B9%8B%E9%97%A8%20%E8%AE%A1%E7%AE%97%E6%9C%BA%E7%9A%84%E5%BA%94%E7%94%A8/vscode%20final%20pj/Untitled-1.ipynb#X32sZmlsZQ%3D%3D?line=0'>1</a>\u001b[0m \u001b[39mimport\u001b[39;00m \u001b[39mmatplotlib\u001b[39;00m\u001b[39m.\u001b[39;00m\u001b[39mpyplot\u001b[39;00m \u001b[39mas\u001b[39;00m \u001b[39mplt\u001b[39;00m\n\u001b[0;32m      <a href='vscode-notebook-cell:/d%3A/FDU/fdu/%E8%AF%BE/%E5%A4%A7%E4%B8%89%E4%B8%8A/%E8%B7%A8%E5%85%A5%E7%A7%91%E5%AD%A6%E4%B9%8B%E9%97%A8%20%E8%AE%A1%E7%AE%97%E6%9C%BA%E7%9A%84%E5%BA%94%E7%94%A8/vscode%20final%20pj/Untitled-1.ipynb#X32sZmlsZQ%3D%3D?line=2'>3</a>\u001b[0m \u001b[39m# 定义函数f(x) = x**2-2和它的导数df(x) = 2x\u001b[39;00m\n\u001b[1;32m----> <a href='vscode-notebook-cell:/d%3A/FDU/fdu/%E8%AF%BE/%E5%A4%A7%E4%B8%89%E4%B8%8A/%E8%B7%A8%E5%85%A5%E7%A7%91%E5%AD%A6%E4%B9%8B%E9%97%A8%20%E8%AE%A1%E7%AE%97%E6%9C%BA%E7%9A%84%E5%BA%94%E7%94%A8/vscode%20final%20pj/Untitled-1.ipynb#X32sZmlsZQ%3D%3D?line=3'>4</a>\u001b[0m \u001b[39mdef\u001b[39;00m \u001b[39mf\u001b[39m(x):\n\u001b[0;32m      <a href='vscode-notebook-cell:/d%3A/FDU/fdu/%E8%AF%BE/%E5%A4%A7%E4%B8%89%E4%B8%8A/%E8%B7%A8%E5%85%A5%E7%A7%91%E5%AD%A6%E4%B9%8B%E9%97%A8%20%E8%AE%A1%E7%AE%97%E6%9C%BA%E7%9A%84%E5%BA%94%E7%94%A8/vscode%20final%20pj/Untitled-1.ipynb#X32sZmlsZQ%3D%3D?line=4'>5</a>\u001b[0m     \u001b[39mreturn\u001b[39;00m x\u001b[39m*\u001b[39m\u001b[39m*\u001b[39m\u001b[39m2\u001b[39m \u001b[39m-\u001b[39m \u001b[39m2\u001b[39m\n\u001b[0;32m      <a href='vscode-notebook-cell:/d%3A/FDU/fdu/%E8%AF%BE/%E5%A4%A7%E4%B8%89%E4%B8%8A/%E8%B7%A8%E5%85%A5%E7%A7%91%E5%AD%A6%E4%B9%8B%E9%97%A8%20%E8%AE%A1%E7%AE%97%E6%9C%BA%E7%9A%84%E5%BA%94%E7%94%A8/vscode%20final%20pj/Untitled-1.ipynb#X32sZmlsZQ%3D%3D?line=6'>7</a>\u001b[0m \u001b[39mdef\u001b[39;00m \u001b[39mdf\u001b[39m(x):\n",
      "\u001b[1;31mKeyboardInterrupt\u001b[0m: "
     ]
    }
   ],
   "source": [
    "import matplotlib.pyplot as plt\n",
    "\n",
    "# 定义函数f(x) = x**2-2和它的导数df(x) = 2x\n",
    "def f(x):\n",
    "    return x**2 - 2\n",
    "\n",
    "def df(x):\n",
    "    return 2*x\n",
    "\n",
    "# 定义bisection算法函数\n",
    "def bisection(f, a, b, epsilon):\n",
    "    while (b-a)/2 > epsilon:\n",
    "        midpoint = (a+b)/2\n",
    "        if f(midpoint) == 0:\n",
    "            return midpoint\n",
    "        elif f(a)*f(midpoint) < 0:\n",
    "            b = midpoint\n",
    "        else:\n",
    "            a = midpoint\n",
    "    return midpoint\n",
    "\n",
    "# 定义Newton算法函数\n",
    "def newton(f, df, x_0, epsilon):\n",
    "    def h(x):\n",
    "        return x - f(x)/df(x)\n",
    "    \n",
    "    x_1 = h(x_0)\n",
    "    while abs(x_0 - x_1) >= epsilon:\n",
    "        x_0 = x_1\n",
    "        x_1 = h(x_0)\n",
    "    return (x_0 + x_1)/2\n",
    "\n",
    "# 求解方程x**2-2=0的根并比较收敛速度\n",
    "a = 1\n",
    "b = 2\n",
    "epsilon = 1e-5\n",
    "\n",
    "# 使用bisection算法求解根\n",
    "bisection_root = bisection(f, a, b, epsilon)\n",
    "\n",
    "# 使用Newton算法求解根\n",
    "newton_root = newton(f, df, (a+b)/2, epsilon)\n",
    "\n",
    "# 绘制图表展示结果\n",
    "x = range(1, 100)\n",
    "y_bisection = [bisection(f, a, b, 1/10**x) for x in x]\n",
    "y_newton = [newton(f, df, (a+b)/2, 1/10**x) for x in x]\n",
    "\n",
    "plt.plot(x, y_bisection, label='Bisection')\n",
    "plt.plot(x, y_newton, label='Newton')\n",
    "plt.xlabel('Iterations')\n",
    "plt.ylabel('Root')\n",
    "plt.title('Convergence of Bisection and Newton Methods')\n",
    "plt.legend()\n",
    "plt.show()\n"
   ]
  },
  {
   "cell_type": "code",
   "execution_count": null,
   "metadata": {},
   "outputs": [],
   "source": []
  },
  {
   "cell_type": "code",
   "execution_count": 9,
   "metadata": {},
   "outputs": [],
   "source": [
    "def bisection(f, a, b, epsilon):\n",
    "    while (b-a)/2 > epsilon:\n",
    "        midpoint = (a+b)/2\n",
    "        iterations.append(midpoint)\n",
    "        if f(midpoint) == 0:\n",
    "            roots.append(midpoint)\n",
    "            break\n",
    "        elif f(a)*f(midpoint) < 0:\n",
    "            b = midpoint\n",
    "        else:\n",
    "            a = midpoint\n",
    "        roots.append(midpoint)\n",
    "    return iterations, roots"
   ]
  },
  {
   "cell_type": "code",
   "execution_count": 11,
   "metadata": {},
   "outputs": [],
   "source": [
    "def f(x):\n",
    "    return x**2 - 2\n",
    "a = 1\n",
    "b = 2\n",
    "epsilon = 1e-5"
   ]
  },
  {
   "cell_type": "code",
   "execution_count": 12,
   "metadata": {},
   "outputs": [],
   "source": [
    "def bisection(f, a, b, epsilon):\n",
    "    root=[]\n",
    "    while (b-a)/2 > epsilon:\n",
    "        midpoint = (a+b)/2\n",
    "        if f(midpoint) == 0:\n",
    "            break\n",
    "        elif f(a)*f(midpoint) < 0:\n",
    "            b = midpoint\n",
    "        else:\n",
    "            a = midpoint\n",
    "    return root"
   ]
  },
  {
   "cell_type": "code",
   "execution_count": 13,
   "metadata": {},
   "outputs": [],
   "source": [
    "bisection_root=bisection(f, a, b, epsilon)"
   ]
  }
 ],
 "metadata": {
  "kernelspec": {
   "display_name": "base",
   "language": "python",
   "name": "python3"
  },
  "language_info": {
   "codemirror_mode": {
    "name": "ipython",
    "version": 3
   },
   "file_extension": ".py",
   "mimetype": "text/x-python",
   "name": "python",
   "nbconvert_exporter": "python",
   "pygments_lexer": "ipython3",
   "version": "3.12.0"
  }
 },
 "nbformat": 4,
 "nbformat_minor": 2
}
